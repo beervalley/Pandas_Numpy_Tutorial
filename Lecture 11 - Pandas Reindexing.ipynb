{
 "cells": [
  {
   "cell_type": "code",
   "execution_count": 2,
   "metadata": {
    "collapsed": true
   },
   "outputs": [],
   "source": [
    "import numpy as np\n",
    "import pandas as pd\n",
    "from pandas import Series, DataFrame\n",
    "from numpy.random import randn"
   ]
  },
  {
   "cell_type": "code",
   "execution_count": 3,
   "metadata": {
    "collapsed": true
   },
   "outputs": [],
   "source": [
    "ser1 = Series([1,2,3,4],index=['A','B','C','D'])"
   ]
  },
  {
   "cell_type": "code",
   "execution_count": 4,
   "metadata": {
    "collapsed": false
   },
   "outputs": [
    {
     "data": {
      "text/plain": [
       "A    1\n",
       "B    2\n",
       "C    3\n",
       "D    4\n",
       "dtype: int64"
      ]
     },
     "execution_count": 4,
     "metadata": {},
     "output_type": "execute_result"
    }
   ],
   "source": [
    "ser1"
   ]
  },
  {
   "cell_type": "code",
   "execution_count": 5,
   "metadata": {
    "collapsed": true
   },
   "outputs": [],
   "source": [
    "ser2 = ser1.reindex(['A','B','C','D','E','F'])"
   ]
  },
  {
   "cell_type": "code",
   "execution_count": 6,
   "metadata": {
    "collapsed": false
   },
   "outputs": [
    {
     "data": {
      "text/plain": [
       "A     1\n",
       "B     2\n",
       "C     3\n",
       "D     4\n",
       "E   NaN\n",
       "F   NaN\n",
       "dtype: float64"
      ]
     },
     "execution_count": 6,
     "metadata": {},
     "output_type": "execute_result"
    }
   ],
   "source": [
    "ser2"
   ]
  },
  {
   "cell_type": "code",
   "execution_count": 7,
   "metadata": {
    "collapsed": false
   },
   "outputs": [
    {
     "data": {
      "text/plain": [
       "A     1\n",
       "B     2\n",
       "C     3\n",
       "D     4\n",
       "E   NaN\n",
       "F   NaN\n",
       "G     0\n",
       "dtype: float64"
      ]
     },
     "execution_count": 7,
     "metadata": {},
     "output_type": "execute_result"
    }
   ],
   "source": [
    "ser2.reindex(['A','B','C','D','E','F','G'], fill_value=0)"
   ]
  },
  {
   "cell_type": "code",
   "execution_count": 8,
   "metadata": {
    "collapsed": true
   },
   "outputs": [],
   "source": [
    "ser3 = Series(['USA','Mexico','Canada'], index=[0,5,10])"
   ]
  },
  {
   "cell_type": "code",
   "execution_count": 9,
   "metadata": {
    "collapsed": false
   },
   "outputs": [
    {
     "data": {
      "text/plain": [
       "0        USA\n",
       "5     Mexico\n",
       "10    Canada\n",
       "dtype: object"
      ]
     },
     "execution_count": 9,
     "metadata": {},
     "output_type": "execute_result"
    }
   ],
   "source": [
    "ser3"
   ]
  },
  {
   "cell_type": "code",
   "execution_count": 10,
   "metadata": {
    "collapsed": true
   },
   "outputs": [],
   "source": [
    "ranger = range(15)"
   ]
  },
  {
   "cell_type": "code",
   "execution_count": 11,
   "metadata": {
    "collapsed": false
   },
   "outputs": [
    {
     "data": {
      "text/plain": [
       "[0, 1, 2, 3, 4, 5, 6, 7, 8, 9, 10, 11, 12, 13, 14]"
      ]
     },
     "execution_count": 11,
     "metadata": {},
     "output_type": "execute_result"
    }
   ],
   "source": [
    "ranger"
   ]
  },
  {
   "cell_type": "code",
   "execution_count": 12,
   "metadata": {
    "collapsed": false
   },
   "outputs": [
    {
     "data": {
      "text/plain": [
       "0        USA\n",
       "1        USA\n",
       "2        USA\n",
       "3        USA\n",
       "4        USA\n",
       "5     Mexico\n",
       "6     Mexico\n",
       "7     Mexico\n",
       "8     Mexico\n",
       "9     Mexico\n",
       "10    Canada\n",
       "11    Canada\n",
       "12    Canada\n",
       "13    Canada\n",
       "14    Canada\n",
       "dtype: object"
      ]
     },
     "execution_count": 12,
     "metadata": {},
     "output_type": "execute_result"
    }
   ],
   "source": [
    "ser3.reindex(ranger,method='ffill')"
   ]
  },
  {
   "cell_type": "code",
   "execution_count": 13,
   "metadata": {
    "collapsed": true
   },
   "outputs": [],
   "source": [
    "dframe = DataFrame(randn(25).reshape((5,5)), index=['A','B','D','E','F'], \n",
    "                   columns=['col1','col2','col3','col4','col5'])"
   ]
  },
  {
   "cell_type": "code",
   "execution_count": 14,
   "metadata": {
    "collapsed": false
   },
   "outputs": [
    {
     "data": {
      "text/html": [
       "<div>\n",
       "<table border=\"1\" class=\"dataframe\">\n",
       "  <thead>\n",
       "    <tr style=\"text-align: right;\">\n",
       "      <th></th>\n",
       "      <th>col1</th>\n",
       "      <th>col2</th>\n",
       "      <th>col3</th>\n",
       "      <th>col4</th>\n",
       "      <th>col5</th>\n",
       "    </tr>\n",
       "  </thead>\n",
       "  <tbody>\n",
       "    <tr>\n",
       "      <th>A</th>\n",
       "      <td>0.886417</td>\n",
       "      <td>1.003227</td>\n",
       "      <td>1.257148</td>\n",
       "      <td>0.907297</td>\n",
       "      <td>0.603969</td>\n",
       "    </tr>\n",
       "    <tr>\n",
       "      <th>B</th>\n",
       "      <td>0.283874</td>\n",
       "      <td>-1.373327</td>\n",
       "      <td>0.390243</td>\n",
       "      <td>-0.276449</td>\n",
       "      <td>-1.237807</td>\n",
       "    </tr>\n",
       "    <tr>\n",
       "      <th>D</th>\n",
       "      <td>0.340576</td>\n",
       "      <td>1.722632</td>\n",
       "      <td>-1.730537</td>\n",
       "      <td>-0.931465</td>\n",
       "      <td>2.081229</td>\n",
       "    </tr>\n",
       "    <tr>\n",
       "      <th>E</th>\n",
       "      <td>0.576504</td>\n",
       "      <td>0.911714</td>\n",
       "      <td>-0.596760</td>\n",
       "      <td>-1.478360</td>\n",
       "      <td>-0.875846</td>\n",
       "    </tr>\n",
       "    <tr>\n",
       "      <th>F</th>\n",
       "      <td>0.470467</td>\n",
       "      <td>-0.182243</td>\n",
       "      <td>-0.207208</td>\n",
       "      <td>-1.750216</td>\n",
       "      <td>0.272807</td>\n",
       "    </tr>\n",
       "  </tbody>\n",
       "</table>\n",
       "</div>"
      ],
      "text/plain": [
       "       col1      col2      col3      col4      col5\n",
       "A  0.886417  1.003227  1.257148  0.907297  0.603969\n",
       "B  0.283874 -1.373327  0.390243 -0.276449 -1.237807\n",
       "D  0.340576  1.722632 -1.730537 -0.931465  2.081229\n",
       "E  0.576504  0.911714 -0.596760 -1.478360 -0.875846\n",
       "F  0.470467 -0.182243 -0.207208 -1.750216  0.272807"
      ]
     },
     "execution_count": 14,
     "metadata": {},
     "output_type": "execute_result"
    }
   ],
   "source": [
    "dframe"
   ]
  },
  {
   "cell_type": "code",
   "execution_count": 15,
   "metadata": {
    "collapsed": true
   },
   "outputs": [],
   "source": [
    "dframe2 = dframe.reindex(['A','B','C','D','E','F'])"
   ]
  },
  {
   "cell_type": "code",
   "execution_count": 16,
   "metadata": {
    "collapsed": false
   },
   "outputs": [
    {
     "data": {
      "text/html": [
       "<div>\n",
       "<table border=\"1\" class=\"dataframe\">\n",
       "  <thead>\n",
       "    <tr style=\"text-align: right;\">\n",
       "      <th></th>\n",
       "      <th>col1</th>\n",
       "      <th>col2</th>\n",
       "      <th>col3</th>\n",
       "      <th>col4</th>\n",
       "      <th>col5</th>\n",
       "    </tr>\n",
       "  </thead>\n",
       "  <tbody>\n",
       "    <tr>\n",
       "      <th>A</th>\n",
       "      <td>0.886417</td>\n",
       "      <td>1.003227</td>\n",
       "      <td>1.257148</td>\n",
       "      <td>0.907297</td>\n",
       "      <td>0.603969</td>\n",
       "    </tr>\n",
       "    <tr>\n",
       "      <th>B</th>\n",
       "      <td>0.283874</td>\n",
       "      <td>-1.373327</td>\n",
       "      <td>0.390243</td>\n",
       "      <td>-0.276449</td>\n",
       "      <td>-1.237807</td>\n",
       "    </tr>\n",
       "    <tr>\n",
       "      <th>C</th>\n",
       "      <td>NaN</td>\n",
       "      <td>NaN</td>\n",
       "      <td>NaN</td>\n",
       "      <td>NaN</td>\n",
       "      <td>NaN</td>\n",
       "    </tr>\n",
       "    <tr>\n",
       "      <th>D</th>\n",
       "      <td>0.340576</td>\n",
       "      <td>1.722632</td>\n",
       "      <td>-1.730537</td>\n",
       "      <td>-0.931465</td>\n",
       "      <td>2.081229</td>\n",
       "    </tr>\n",
       "    <tr>\n",
       "      <th>E</th>\n",
       "      <td>0.576504</td>\n",
       "      <td>0.911714</td>\n",
       "      <td>-0.596760</td>\n",
       "      <td>-1.478360</td>\n",
       "      <td>-0.875846</td>\n",
       "    </tr>\n",
       "    <tr>\n",
       "      <th>F</th>\n",
       "      <td>0.470467</td>\n",
       "      <td>-0.182243</td>\n",
       "      <td>-0.207208</td>\n",
       "      <td>-1.750216</td>\n",
       "      <td>0.272807</td>\n",
       "    </tr>\n",
       "  </tbody>\n",
       "</table>\n",
       "</div>"
      ],
      "text/plain": [
       "       col1      col2      col3      col4      col5\n",
       "A  0.886417  1.003227  1.257148  0.907297  0.603969\n",
       "B  0.283874 -1.373327  0.390243 -0.276449 -1.237807\n",
       "C       NaN       NaN       NaN       NaN       NaN\n",
       "D  0.340576  1.722632 -1.730537 -0.931465  2.081229\n",
       "E  0.576504  0.911714 -0.596760 -1.478360 -0.875846\n",
       "F  0.470467 -0.182243 -0.207208 -1.750216  0.272807"
      ]
     },
     "execution_count": 16,
     "metadata": {},
     "output_type": "execute_result"
    }
   ],
   "source": [
    "dframe2"
   ]
  },
  {
   "cell_type": "code",
   "execution_count": 17,
   "metadata": {
    "collapsed": true
   },
   "outputs": [],
   "source": [
    "new_columns = ['col1','col2','col3','col4','col5','col6']"
   ]
  },
  {
   "cell_type": "code",
   "execution_count": 18,
   "metadata": {
    "collapsed": false
   },
   "outputs": [
    {
     "data": {
      "text/html": [
       "<div>\n",
       "<table border=\"1\" class=\"dataframe\">\n",
       "  <thead>\n",
       "    <tr style=\"text-align: right;\">\n",
       "      <th></th>\n",
       "      <th>col1</th>\n",
       "      <th>col2</th>\n",
       "      <th>col3</th>\n",
       "      <th>col4</th>\n",
       "      <th>col5</th>\n",
       "      <th>col6</th>\n",
       "    </tr>\n",
       "  </thead>\n",
       "  <tbody>\n",
       "    <tr>\n",
       "      <th>A</th>\n",
       "      <td>0.886417</td>\n",
       "      <td>1.003227</td>\n",
       "      <td>1.257148</td>\n",
       "      <td>0.907297</td>\n",
       "      <td>0.603969</td>\n",
       "      <td>NaN</td>\n",
       "    </tr>\n",
       "    <tr>\n",
       "      <th>B</th>\n",
       "      <td>0.283874</td>\n",
       "      <td>-1.373327</td>\n",
       "      <td>0.390243</td>\n",
       "      <td>-0.276449</td>\n",
       "      <td>-1.237807</td>\n",
       "      <td>NaN</td>\n",
       "    </tr>\n",
       "    <tr>\n",
       "      <th>C</th>\n",
       "      <td>NaN</td>\n",
       "      <td>NaN</td>\n",
       "      <td>NaN</td>\n",
       "      <td>NaN</td>\n",
       "      <td>NaN</td>\n",
       "      <td>NaN</td>\n",
       "    </tr>\n",
       "    <tr>\n",
       "      <th>D</th>\n",
       "      <td>0.340576</td>\n",
       "      <td>1.722632</td>\n",
       "      <td>-1.730537</td>\n",
       "      <td>-0.931465</td>\n",
       "      <td>2.081229</td>\n",
       "      <td>NaN</td>\n",
       "    </tr>\n",
       "    <tr>\n",
       "      <th>E</th>\n",
       "      <td>0.576504</td>\n",
       "      <td>0.911714</td>\n",
       "      <td>-0.596760</td>\n",
       "      <td>-1.478360</td>\n",
       "      <td>-0.875846</td>\n",
       "      <td>NaN</td>\n",
       "    </tr>\n",
       "    <tr>\n",
       "      <th>F</th>\n",
       "      <td>0.470467</td>\n",
       "      <td>-0.182243</td>\n",
       "      <td>-0.207208</td>\n",
       "      <td>-1.750216</td>\n",
       "      <td>0.272807</td>\n",
       "      <td>NaN</td>\n",
       "    </tr>\n",
       "  </tbody>\n",
       "</table>\n",
       "</div>"
      ],
      "text/plain": [
       "       col1      col2      col3      col4      col5  col6\n",
       "A  0.886417  1.003227  1.257148  0.907297  0.603969   NaN\n",
       "B  0.283874 -1.373327  0.390243 -0.276449 -1.237807   NaN\n",
       "C       NaN       NaN       NaN       NaN       NaN   NaN\n",
       "D  0.340576  1.722632 -1.730537 -0.931465  2.081229   NaN\n",
       "E  0.576504  0.911714 -0.596760 -1.478360 -0.875846   NaN\n",
       "F  0.470467 -0.182243 -0.207208 -1.750216  0.272807   NaN"
      ]
     },
     "execution_count": 18,
     "metadata": {},
     "output_type": "execute_result"
    }
   ],
   "source": [
    "dframe2.reindex(columns=new_columns)"
   ]
  },
  {
   "cell_type": "code",
   "execution_count": 19,
   "metadata": {
    "collapsed": false
   },
   "outputs": [
    {
     "data": {
      "text/html": [
       "<div>\n",
       "<table border=\"1\" class=\"dataframe\">\n",
       "  <thead>\n",
       "    <tr style=\"text-align: right;\">\n",
       "      <th></th>\n",
       "      <th>col1</th>\n",
       "      <th>col2</th>\n",
       "      <th>col3</th>\n",
       "      <th>col4</th>\n",
       "      <th>col5</th>\n",
       "    </tr>\n",
       "  </thead>\n",
       "  <tbody>\n",
       "    <tr>\n",
       "      <th>A</th>\n",
       "      <td>0.886417</td>\n",
       "      <td>1.003227</td>\n",
       "      <td>1.257148</td>\n",
       "      <td>0.907297</td>\n",
       "      <td>0.603969</td>\n",
       "    </tr>\n",
       "    <tr>\n",
       "      <th>B</th>\n",
       "      <td>0.283874</td>\n",
       "      <td>-1.373327</td>\n",
       "      <td>0.390243</td>\n",
       "      <td>-0.276449</td>\n",
       "      <td>-1.237807</td>\n",
       "    </tr>\n",
       "    <tr>\n",
       "      <th>D</th>\n",
       "      <td>0.340576</td>\n",
       "      <td>1.722632</td>\n",
       "      <td>-1.730537</td>\n",
       "      <td>-0.931465</td>\n",
       "      <td>2.081229</td>\n",
       "    </tr>\n",
       "    <tr>\n",
       "      <th>E</th>\n",
       "      <td>0.576504</td>\n",
       "      <td>0.911714</td>\n",
       "      <td>-0.596760</td>\n",
       "      <td>-1.478360</td>\n",
       "      <td>-0.875846</td>\n",
       "    </tr>\n",
       "    <tr>\n",
       "      <th>F</th>\n",
       "      <td>0.470467</td>\n",
       "      <td>-0.182243</td>\n",
       "      <td>-0.207208</td>\n",
       "      <td>-1.750216</td>\n",
       "      <td>0.272807</td>\n",
       "    </tr>\n",
       "  </tbody>\n",
       "</table>\n",
       "</div>"
      ],
      "text/plain": [
       "       col1      col2      col3      col4      col5\n",
       "A  0.886417  1.003227  1.257148  0.907297  0.603969\n",
       "B  0.283874 -1.373327  0.390243 -0.276449 -1.237807\n",
       "D  0.340576  1.722632 -1.730537 -0.931465  2.081229\n",
       "E  0.576504  0.911714 -0.596760 -1.478360 -0.875846\n",
       "F  0.470467 -0.182243 -0.207208 -1.750216  0.272807"
      ]
     },
     "execution_count": 19,
     "metadata": {},
     "output_type": "execute_result"
    }
   ],
   "source": [
    "dframe"
   ]
  },
  {
   "cell_type": "code",
   "execution_count": 20,
   "metadata": {
    "collapsed": false
   },
   "outputs": [
    {
     "data": {
      "text/html": [
       "<div>\n",
       "<table border=\"1\" class=\"dataframe\">\n",
       "  <thead>\n",
       "    <tr style=\"text-align: right;\">\n",
       "      <th></th>\n",
       "      <th>col1</th>\n",
       "      <th>col2</th>\n",
       "      <th>col3</th>\n",
       "      <th>col4</th>\n",
       "      <th>col5</th>\n",
       "      <th>col6</th>\n",
       "    </tr>\n",
       "  </thead>\n",
       "  <tbody>\n",
       "    <tr>\n",
       "      <th>A</th>\n",
       "      <td>0.886417</td>\n",
       "      <td>1.003227</td>\n",
       "      <td>1.257148</td>\n",
       "      <td>0.907297</td>\n",
       "      <td>0.603969</td>\n",
       "      <td>NaN</td>\n",
       "    </tr>\n",
       "    <tr>\n",
       "      <th>B</th>\n",
       "      <td>0.283874</td>\n",
       "      <td>-1.373327</td>\n",
       "      <td>0.390243</td>\n",
       "      <td>-0.276449</td>\n",
       "      <td>-1.237807</td>\n",
       "      <td>NaN</td>\n",
       "    </tr>\n",
       "    <tr>\n",
       "      <th>C</th>\n",
       "      <td>NaN</td>\n",
       "      <td>NaN</td>\n",
       "      <td>NaN</td>\n",
       "      <td>NaN</td>\n",
       "      <td>NaN</td>\n",
       "      <td>NaN</td>\n",
       "    </tr>\n",
       "    <tr>\n",
       "      <th>D</th>\n",
       "      <td>0.340576</td>\n",
       "      <td>1.722632</td>\n",
       "      <td>-1.730537</td>\n",
       "      <td>-0.931465</td>\n",
       "      <td>2.081229</td>\n",
       "      <td>NaN</td>\n",
       "    </tr>\n",
       "    <tr>\n",
       "      <th>E</th>\n",
       "      <td>0.576504</td>\n",
       "      <td>0.911714</td>\n",
       "      <td>-0.596760</td>\n",
       "      <td>-1.478360</td>\n",
       "      <td>-0.875846</td>\n",
       "      <td>NaN</td>\n",
       "    </tr>\n",
       "    <tr>\n",
       "      <th>F</th>\n",
       "      <td>0.470467</td>\n",
       "      <td>-0.182243</td>\n",
       "      <td>-0.207208</td>\n",
       "      <td>-1.750216</td>\n",
       "      <td>0.272807</td>\n",
       "      <td>NaN</td>\n",
       "    </tr>\n",
       "  </tbody>\n",
       "</table>\n",
       "</div>"
      ],
      "text/plain": [
       "       col1      col2      col3      col4      col5  col6\n",
       "A  0.886417  1.003227  1.257148  0.907297  0.603969   NaN\n",
       "B  0.283874 -1.373327  0.390243 -0.276449 -1.237807   NaN\n",
       "C       NaN       NaN       NaN       NaN       NaN   NaN\n",
       "D  0.340576  1.722632 -1.730537 -0.931465  2.081229   NaN\n",
       "E  0.576504  0.911714 -0.596760 -1.478360 -0.875846   NaN\n",
       "F  0.470467 -0.182243 -0.207208 -1.750216  0.272807   NaN"
      ]
     },
     "execution_count": 20,
     "metadata": {},
     "output_type": "execute_result"
    }
   ],
   "source": [
    "dframe.ix[['A','B','C','D','E','F'], new_columns]"
   ]
  }
 ],
 "metadata": {
  "kernelspec": {
   "display_name": "Python 2",
   "language": "python",
   "name": "python2"
  },
  "language_info": {
   "codemirror_mode": {
    "name": "ipython",
    "version": 2
   },
   "file_extension": ".py",
   "mimetype": "text/x-python",
   "name": "python",
   "nbconvert_exporter": "python",
   "pygments_lexer": "ipython2",
   "version": "2.7.10"
  }
 },
 "nbformat": 4,
 "nbformat_minor": 0
}
